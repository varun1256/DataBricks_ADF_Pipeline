{
 "cells": [
  {
   "cell_type": "code",
   "execution_count": 0,
   "metadata": {
    "application/vnd.databricks.v1+cell": {
     "cellMetadata": {
      "byteLimit": 2048000,
      "implicitDf": true,
      "rowLimit": 10000
     },
     "inputWidgets": {},
     "nuid": "fff73262-418d-4f43-845b-9a3897fa5462",
     "showTitle": false,
     "tableResultSettingsMap": {},
     "title": ""
    }
   },
   "outputs": [
    {
     "output_type": "display_data",
     "data": {
      "text/html": [
       "<style scoped>\n",
       "  .table-result-container {\n",
       "    max-height: 300px;\n",
       "    overflow: auto;\n",
       "  }\n",
       "  table, th, td {\n",
       "    border: 1px solid black;\n",
       "    border-collapse: collapse;\n",
       "  }\n",
       "  th, td {\n",
       "    padding: 5px;\n",
       "  }\n",
       "  th {\n",
       "    text-align: left;\n",
       "  }\n",
       "</style><div class='table-result-container'><table class='table-result'><thead style='background-color: white'><tr></tr></thead><tbody></tbody></table></div>"
      ]
     },
     "metadata": {
      "application/vnd.databricks.v1+output": {
       "addedWidgets": {},
       "aggData": [],
       "aggError": "",
       "aggOverflow": false,
       "aggSchema": [],
       "aggSeriesLimitReached": false,
       "aggType": "",
       "arguments": {},
       "columnCustomDisplayInfos": {},
       "data": [],
       "datasetInfos": [],
       "dbfsResultPath": null,
       "isJsonSchema": true,
       "metadata": {
        "dataframeName": null
       },
       "overflow": false,
       "plotOptions": {
        "customPlotOptions": {},
        "displayType": "table",
        "pivotAggregation": null,
        "pivotColumns": null,
        "xColumns": null,
        "yColumns": null
       },
       "removedWidgets": [],
       "schema": [],
       "type": "table"
      }
     },
     "output_type": "display_data"
    }
   ],
   "source": [
    "%sql\n",
    "create database if not exists dim;"
   ]
  },
  {
   "cell_type": "code",
   "execution_count": 0,
   "metadata": {
    "application/vnd.databricks.v1+cell": {
     "cellMetadata": {
      "byteLimit": 2048000,
      "implicitDf": true,
      "rowLimit": 10000
     },
     "inputWidgets": {},
     "nuid": "89cd864c-59e6-4438-9866-f9daceb0d3a5",
     "showTitle": false,
     "tableResultSettingsMap": {},
     "title": ""
    }
   },
   "outputs": [
    {
     "output_type": "display_data",
     "data": {
      "text/html": [
       "<style scoped>\n",
       "  .table-result-container {\n",
       "    max-height: 300px;\n",
       "    overflow: auto;\n",
       "  }\n",
       "  table, th, td {\n",
       "    border: 1px solid black;\n",
       "    border-collapse: collapse;\n",
       "  }\n",
       "  th, td {\n",
       "    padding: 5px;\n",
       "  }\n",
       "  th {\n",
       "    text-align: left;\n",
       "  }\n",
       "</style><div class='table-result-container'><table class='table-result'><thead style='background-color: white'><tr></tr></thead><tbody></tbody></table></div>"
      ]
     },
     "metadata": {
      "application/vnd.databricks.v1+output": {
       "addedWidgets": {},
       "aggData": [],
       "aggError": "",
       "aggOverflow": false,
       "aggSchema": [],
       "aggSeriesLimitReached": false,
       "aggType": "",
       "arguments": {},
       "columnCustomDisplayInfos": {},
       "data": [],
       "datasetInfos": [],
       "dbfsResultPath": null,
       "isJsonSchema": true,
       "metadata": {
        "dataframeName": null
       },
       "overflow": false,
       "plotOptions": {
        "customPlotOptions": {},
        "displayType": "table",
        "pivotAggregation": null,
        "pivotColumns": null,
        "xColumns": null,
        "yColumns": null
       },
       "removedWidgets": [],
       "schema": [],
       "type": "table"
      }
     },
     "output_type": "display_data"
    }
   ],
   "source": [
    "%sql\n",
    "create table if not exists dim.Customer(\n",
    "CustomerID  varchar(20),  \n",
    "CustomerName varchar(20) , \n",
    "Segment varchar(20), \n",
    "Country varchar(20) , \n",
    "City varchar(20), \n",
    "State varchar(20), \n",
    "PostalCode BIGINT , \n",
    "Region varchar(20),\n",
    "createdDate timestamp,\n",
    "updatedDate timestamp\n",
    ")"
   ]
  },
  {
   "cell_type": "code",
   "execution_count": 0,
   "metadata": {
    "application/vnd.databricks.v1+cell": {
     "cellMetadata": {
      "byteLimit": 2048000,
      "implicitDf": true,
      "rowLimit": 10000
     },
     "inputWidgets": {},
     "nuid": "bd3d9ed3-817e-469b-9719-10217a9424ef",
     "showTitle": false,
     "tableResultSettingsMap": {},
     "title": ""
    }
   },
   "outputs": [],
   "source": [
    "%sql\n",
    "-- merge into dim.Customer as tgt\n",
    "-- using \n",
    "-- (Select distinct Customer_ID, Customer_Name, Segment, Country, City, State, Postal_Code,Region from cs_raw.invoice)\n",
    "-- as src\n",
    "-- on tgt.CustomerID = src.Customer_ID\n",
    "-- when matched then \n",
    "--   update \n",
    "--      set \n",
    "--      tgt.CustomerName = src.Customer_Name, \n",
    "--      tgt.Segment = src.Segment, \n",
    "--      tgt.Country = src.Country, \n",
    "--      tgt.City = src.City, \n",
    "--      tgt.State = src.State, \n",
    "--      tgt.PostalCode=src.Postal_Code,\n",
    "--      tgt.Region = src.Region,\n",
    "--      tgt.updatedDate=current_timestamp()\n",
    "-- when not matched then\n",
    "--  INSERT (CustomerID, CustomerName, Segment, Country, City, State, PostalCode, Region, createdDate, updatedDate)\n",
    "--   VALUES (src.Customer_ID, src.Customer_Name, src.Segment, src.Country, src.City, src.State, src.Postal_Code, src.Region, current_timestamp(), current_timestamp());\n",
    "\n"
   ]
  },
  {
   "cell_type": "code",
   "execution_count": 0,
   "metadata": {
    "application/vnd.databricks.v1+cell": {
     "cellMetadata": {
      "byteLimit": 2048000,
      "implicitDf": true,
      "rowLimit": 10000
     },
     "inputWidgets": {},
     "nuid": "d67cd3c2-4e03-44f6-9c98-178ba2aa38fd",
     "showTitle": false,
     "tableResultSettingsMap": {},
     "title": ""
    }
   },
   "outputs": [
    {
     "output_type": "display_data",
     "data": {
      "text/html": [
       "<style scoped>\n",
       "  .table-result-container {\n",
       "    max-height: 300px;\n",
       "    overflow: auto;\n",
       "  }\n",
       "  table, th, td {\n",
       "    border: 1px solid black;\n",
       "    border-collapse: collapse;\n",
       "  }\n",
       "  th, td {\n",
       "    padding: 5px;\n",
       "  }\n",
       "  th {\n",
       "    text-align: left;\n",
       "  }\n",
       "</style><div class='table-result-container'><table class='table-result'><thead style='background-color: white'><tr><th>current_date()</th></tr></thead><tbody><tr><td>2025-01-31</td></tr></tbody></table></div>"
      ]
     },
     "metadata": {
      "application/vnd.databricks.v1+output": {
       "addedWidgets": {},
       "aggData": [],
       "aggError": "",
       "aggOverflow": false,
       "aggSchema": [],
       "aggSeriesLimitReached": false,
       "aggType": "",
       "arguments": {},
       "columnCustomDisplayInfos": {},
       "data": [
        [
         "2025-01-31"
        ]
       ],
       "datasetInfos": [],
       "dbfsResultPath": null,
       "isJsonSchema": true,
       "metadata": {
        "createTempViewForImplicitDf": true,
        "dataframeName": "_sqldf",
        "executionCount": 1
       },
       "overflow": false,
       "plotOptions": {
        "customPlotOptions": {},
        "displayType": "table",
        "pivotAggregation": null,
        "pivotColumns": null,
        "xColumns": null,
        "yColumns": null
       },
       "removedWidgets": [],
       "schema": [
        {
         "metadata": "{}",
         "name": "current_date()",
         "type": "\"date\""
        }
       ],
       "type": "table"
      }
     },
     "output_type": "display_data"
    }
   ],
   "source": [
    "%sql\n",
    "Select current_date"
   ]
  },
  {
   "cell_type": "code",
   "execution_count": 0,
   "metadata": {
    "application/vnd.databricks.v1+cell": {
     "cellMetadata": {
      "byteLimit": 2048000,
      "rowLimit": 10000
     },
     "inputWidgets": {},
     "nuid": "af523ae3-9d89-46f0-a685-de7900313d7c",
     "showTitle": false,
     "tableResultSettingsMap": {},
     "title": ""
    }
   },
   "outputs": [],
   "source": [
    "from pyspark.sql.functions import current_timestamp\n",
    "\n",
    "# Load the source DataFrame from the raw invoice table\n",
    "src_df = spark.sql(\"\"\"\n",
    "    SELECT DISTINCT \n",
    "        Customer_ID, Customer_Name, Segment, Country, City, State, Postal_Code, Region \n",
    "    FROM cs_raw.invoice\n",
    "\"\"\")\n",
    "\n",
    "# Define the target table path (if using Delta Lake)\n",
    "target_table = \"dim.Customer\"\n",
    "\n",
    "# Perform the merge operation\n",
    "from delta.tables import DeltaTable\n",
    "\n",
    "# Load the target table\n",
    "tgt_tbl = DeltaTable.forName(spark, target_table)\n",
    "\n",
    "# Merge source into target\n",
    "tgt_tbl.alias(\"tgt\").merge(\n",
    "    src_df.alias(\"src\"),\n",
    "    \"tgt.CustomerID = src.Customer_ID\"\n",
    ").whenMatchedUpdate(\n",
    "     condition=\"\"\"\n",
    "        tgt.CustomerName <> src.Customer_Name OR\n",
    "        tgt.Segment <> src.Segment OR\n",
    "        tgt.Country <> src.Country OR\n",
    "        tgt.City <> src.City OR\n",
    "        tgt.State <> src.State OR\n",
    "        tgt.PostalCode <> src.Postal_Code OR\n",
    "        tgt.Region <> src.Region\n",
    "    \"\"\",\n",
    "    set={\n",
    "    \"CustomerName\": \"src.Customer_Name\",\n",
    "    \"Segment\": \"src.Segment\",\n",
    "    \"Country\": \"src.Country\",\n",
    "    \"City\": \"src.City\",\n",
    "    \"State\": \"src.State\",\n",
    "    \"PostalCode\": \"src.Postal_Code\",\n",
    "    \"Region\": \"src.Region\",\n",
    "    \"updatedDate\": \"current_timestamp()\"\n",
    "}).whenNotMatchedInsert(values={\n",
    "    \"CustomerID\": \"src.Customer_ID\",\n",
    "    \"CustomerName\": \"src.Customer_Name\",\n",
    "    \"Segment\": \"src.Segment\",\n",
    "    \"Country\": \"src.Country\",\n",
    "    \"City\": \"src.City\",\n",
    "    \"State\": \"src.State\",\n",
    "    \"PostalCode\": \"src.Postal_Code\",\n",
    "    \"Region\": \"src.Region\",\n",
    "    \"createdDate\": \"current_timestamp()\",\n",
    "    \"updatedDate\": \"current_timestamp()\"\n",
    "}).execute()\n"
   ]
  },
  {
   "cell_type": "code",
   "execution_count": 0,
   "metadata": {
    "application/vnd.databricks.v1+cell": {
     "cellMetadata": {
      "byteLimit": 2048000,
      "implicitDf": true,
      "rowLimit": 10000
     },
     "inputWidgets": {},
     "nuid": "f9c5b65e-1dac-4635-acc3-c58a864b8b22",
     "showTitle": false,
     "tableResultSettingsMap": {},
     "title": ""
    }
   },
   "outputs": [
    {
     "output_type": "display_data",
     "data": {
      "text/html": [
       "<style scoped>\n",
       "  .table-result-container {\n",
       "    max-height: 300px;\n",
       "    overflow: auto;\n",
       "  }\n",
       "  table, th, td {\n",
       "    border: 1px solid black;\n",
       "    border-collapse: collapse;\n",
       "  }\n",
       "  th, td {\n",
       "    padding: 5px;\n",
       "  }\n",
       "  th {\n",
       "    text-align: left;\n",
       "  }\n",
       "</style><div class='table-result-container'><table class='table-result'><thead style='background-color: white'><tr><th>CustomerID</th><th>CustomerName</th><th>Segment</th><th>Country</th><th>City</th><th>State</th><th>PostalCode</th><th>Region</th><th>createdDate</th><th>updatedDate</th></tr></thead><tbody><tr><td>PK-19075</td><td>Pete Kriz</td><td>Consumer</td><td>United States</td><td>Madison</td><td>Wisconsin</td><td>53711</td><td>Central</td><td>2025-02-01T14:33:05.051Z</td><td>2025-02-01T14:33:05.051Z</td></tr><tr><td>MA-17560</td><td>Matt Abelman</td><td>Home Office</td><td>United States</td><td>Houston</td><td>Texas</td><td>77095</td><td>Central</td><td>2025-02-01T14:33:05.051Z</td><td>2025-02-01T14:33:05.051Z</td></tr><tr><td>ES-14080</td><td>Erin Smith</td><td>Corporate</td><td>United States</td><td>Melbourne</td><td>Florida</td><td>32935</td><td>South</td><td>2025-02-01T14:33:05.051Z</td><td>2025-02-01T14:33:05.051Z</td></tr><tr><td>PO-18865</td><td>Patrick O'Donnell</td><td>Consumer</td><td>United States</td><td>Westland</td><td>Michigan</td><td>48185</td><td>Central</td><td>2025-02-01T14:33:05.051Z</td><td>2025-02-01T14:33:05.051Z</td></tr><tr><td>EB-13870</td><td>Emily Burns</td><td>Consumer</td><td>United States</td><td>Orem</td><td>Utah</td><td>84057</td><td>West</td><td>2025-02-01T14:33:05.051Z</td><td>2025-02-01T14:33:05.051Z</td></tr><tr><td>SO-20335</td><td>Sean O'Donnell</td><td>Consumer</td><td>United States</td><td>Fort Lauderdale</td><td>Florida</td><td>33311</td><td>South</td><td>2025-02-01T14:33:05.051Z</td><td>2025-02-01T14:33:05.051Z</td></tr><tr><td>EH-13945</td><td>Eric Hoffmann</td><td>Consumer</td><td>United States</td><td>Los Angeles</td><td>California</td><td>90049</td><td>West</td><td>2025-02-01T14:33:05.051Z</td><td>2025-02-01T14:33:05.051Z</td></tr><tr><td>DV-13045</td><td>Darrin Van Huff</td><td>Corporate</td><td>United States</td><td>Los Angeles</td><td>California</td><td>90036</td><td>West</td><td>2025-02-01T14:33:05.051Z</td><td>2025-02-01T14:33:05.051Z</td></tr><tr><td>IM-15070</td><td>Irene Maddox</td><td>Consumer</td><td>United States</td><td>Seattle</td><td>Washington</td><td>98103</td><td>West</td><td>2025-02-01T14:33:05.051Z</td><td>2025-02-01T14:33:05.051Z</td></tr><tr><td>GH-14485</td><td>Gene Hale</td><td>Corporate</td><td>United States</td><td>Richardson</td><td>Texas</td><td>75080</td><td>Central</td><td>2025-02-01T14:33:05.051Z</td><td>2025-02-01T14:33:05.051Z</td></tr><tr><td>LC-16930</td><td>Linda Cazamias</td><td>Corporate</td><td>United States</td><td>Naperville</td><td>Illinois</td><td>60540</td><td>Central</td><td>2025-02-01T14:33:05.051Z</td><td>2025-02-01T14:33:05.051Z</td></tr><tr><td>DP-13000</td><td>Darren Powers</td><td>Consumer</td><td>United States</td><td>New Albany</td><td>Indiana</td><td>47150</td><td>Central</td><td>2025-02-01T14:33:05.051Z</td><td>2025-02-01T14:33:05.051Z</td></tr><tr><td>ZD-21925</td><td>Zuschuss Donatelli</td><td>Consumer</td><td>United States</td><td>San Francisco</td><td>California</td><td>94109</td><td>West</td><td>2025-02-01T14:33:05.051Z</td><td>2025-02-01T14:33:05.051Z</td></tr><tr><td>RA-19885</td><td>Ruben Ausman</td><td>Corporate</td><td>United States</td><td>Los Angeles</td><td>California</td><td>90049</td><td>West</td><td>2025-02-01T14:33:05.051Z</td><td>2025-02-01T14:33:05.051Z</td></tr><tr><td>HP-14815</td><td>Harold Pawlan</td><td>Home Office</td><td>United States</td><td>Fort Worth</td><td>Texas</td><td>76106</td><td>Central</td><td>2025-02-01T14:33:05.051Z</td><td>2025-02-01T14:33:05.051Z</td></tr><tr><td>AG-10270</td><td>Alejandro Grove</td><td>Consumer</td><td>United States</td><td>West Jordan</td><td>Utah</td><td>84084</td><td>West</td><td>2025-02-01T14:33:05.051Z</td><td>2025-02-01T14:33:05.051Z</td></tr><tr><td>TB-21520</td><td>Tracy Blumstein</td><td>Consumer</td><td>United States</td><td>Philadelphia</td><td>Pennsylvania</td><td>19140</td><td>East</td><td>2025-02-01T14:33:05.051Z</td><td>2025-02-01T14:33:05.051Z</td></tr><tr><td>KB-16585</td><td>Ken Black</td><td>Corporate</td><td>United States</td><td>Fremont</td><td>Nebraska</td><td>68025</td><td>Central</td><td>2025-02-01T14:33:05.051Z</td><td>2025-02-01T14:33:05.051Z</td></tr><tr><td>SF-20065</td><td>Sandra Flanagan</td><td>Consumer</td><td>United States</td><td>Philadelphia</td><td>Pennsylvania</td><td>19140</td><td>East</td><td>2025-02-01T14:33:05.051Z</td><td>2025-02-01T14:33:05.051Z</td></tr><tr><td>SN-20710</td><td>Steve Nguyen</td><td>Home Office</td><td>United States</td><td>Houston</td><td>Texas</td><td>77041</td><td>Central</td><td>2025-02-01T14:33:05.051Z</td><td>2025-02-01T14:33:05.051Z</td></tr><tr><td>LH-16900</td><td>Lena Hernandez</td><td>Consumer</td><td>United States</td><td>Dover</td><td>Delaware</td><td>19901</td><td>East</td><td>2025-02-01T14:33:05.051Z</td><td>2025-02-01T14:33:05.051Z</td></tr><tr><td>ON-18715</td><td>Odella Nelson</td><td>Corporate</td><td>United States</td><td>Eagan</td><td>Minnesota</td><td>55122</td><td>Central</td><td>2025-02-01T14:33:05.051Z</td><td>2025-02-01T14:33:05.051Z</td></tr><tr><td>AA-10480</td><td>Andrew Allen</td><td>Consumer</td><td>United States</td><td>Concord</td><td>North Carolina</td><td>28027</td><td>South</td><td>2025-02-01T14:33:05.051Z</td><td>2025-02-01T14:33:05.051Z</td></tr><tr><td>CG-12520</td><td>Claire Gute</td><td>Consumer</td><td>United States</td><td>Henderson</td><td>Kentucky</td><td>42420</td><td>South</td><td>2025-02-01T14:33:05.051Z</td><td>2025-02-01T14:48:48.961Z</td></tr><tr><td>BH-11710</td><td>Brosina Hoffman</td><td>Consumer</td><td>Pakistan</td><td>Los Angeles</td><td>California</td><td>90032</td><td>West</td><td>2025-02-01T14:33:05.051Z</td><td>2025-02-01T16:26:33.681Z</td></tr></tbody></table></div>"
      ]
     },
     "metadata": {
      "application/vnd.databricks.v1+output": {
       "addedWidgets": {},
       "aggData": [],
       "aggError": "",
       "aggOverflow": false,
       "aggSchema": [],
       "aggSeriesLimitReached": false,
       "aggType": "",
       "arguments": {},
       "columnCustomDisplayInfos": {},
       "data": [
        [
         "PK-19075",
         "Pete Kriz",
         "Consumer",
         "United States",
         "Madison",
         "Wisconsin",
         53711,
         "Central",
         "2025-02-01T14:33:05.051Z",
         "2025-02-01T14:33:05.051Z"
        ],
        [
         "MA-17560",
         "Matt Abelman",
         "Home Office",
         "United States",
         "Houston",
         "Texas",
         77095,
         "Central",
         "2025-02-01T14:33:05.051Z",
         "2025-02-01T14:33:05.051Z"
        ],
        [
         "ES-14080",
         "Erin Smith",
         "Corporate",
         "United States",
         "Melbourne",
         "Florida",
         32935,
         "South",
         "2025-02-01T14:33:05.051Z",
         "2025-02-01T14:33:05.051Z"
        ],
        [
         "PO-18865",
         "Patrick O'Donnell",
         "Consumer",
         "United States",
         "Westland",
         "Michigan",
         48185,
         "Central",
         "2025-02-01T14:33:05.051Z",
         "2025-02-01T14:33:05.051Z"
        ],
        [
         "EB-13870",
         "Emily Burns",
         "Consumer",
         "United States",
         "Orem",
         "Utah",
         84057,
         "West",
         "2025-02-01T14:33:05.051Z",
         "2025-02-01T14:33:05.051Z"
        ],
        [
         "SO-20335",
         "Sean O'Donnell",
         "Consumer",
         "United States",
         "Fort Lauderdale",
         "Florida",
         33311,
         "South",
         "2025-02-01T14:33:05.051Z",
         "2025-02-01T14:33:05.051Z"
        ],
        [
         "EH-13945",
         "Eric Hoffmann",
         "Consumer",
         "United States",
         "Los Angeles",
         "California",
         90049,
         "West",
         "2025-02-01T14:33:05.051Z",
         "2025-02-01T14:33:05.051Z"
        ],
        [
         "DV-13045",
         "Darrin Van Huff",
         "Corporate",
         "United States",
         "Los Angeles",
         "California",
         90036,
         "West",
         "2025-02-01T14:33:05.051Z",
         "2025-02-01T14:33:05.051Z"
        ],
        [
         "IM-15070",
         "Irene Maddox",
         "Consumer",
         "United States",
         "Seattle",
         "Washington",
         98103,
         "West",
         "2025-02-01T14:33:05.051Z",
         "2025-02-01T14:33:05.051Z"
        ],
        [
         "GH-14485",
         "Gene Hale",
         "Corporate",
         "United States",
         "Richardson",
         "Texas",
         75080,
         "Central",
         "2025-02-01T14:33:05.051Z",
         "2025-02-01T14:33:05.051Z"
        ],
        [
         "LC-16930",
         "Linda Cazamias",
         "Corporate",
         "United States",
         "Naperville",
         "Illinois",
         60540,
         "Central",
         "2025-02-01T14:33:05.051Z",
         "2025-02-01T14:33:05.051Z"
        ],
        [
         "DP-13000",
         "Darren Powers",
         "Consumer",
         "United States",
         "New Albany",
         "Indiana",
         47150,
         "Central",
         "2025-02-01T14:33:05.051Z",
         "2025-02-01T14:33:05.051Z"
        ],
        [
         "ZD-21925",
         "Zuschuss Donatelli",
         "Consumer",
         "United States",
         "San Francisco",
         "California",
         94109,
         "West",
         "2025-02-01T14:33:05.051Z",
         "2025-02-01T14:33:05.051Z"
        ],
        [
         "RA-19885",
         "Ruben Ausman",
         "Corporate",
         "United States",
         "Los Angeles",
         "California",
         90049,
         "West",
         "2025-02-01T14:33:05.051Z",
         "2025-02-01T14:33:05.051Z"
        ],
        [
         "HP-14815",
         "Harold Pawlan",
         "Home Office",
         "United States",
         "Fort Worth",
         "Texas",
         76106,
         "Central",
         "2025-02-01T14:33:05.051Z",
         "2025-02-01T14:33:05.051Z"
        ],
        [
         "AG-10270",
         "Alejandro Grove",
         "Consumer",
         "United States",
         "West Jordan",
         "Utah",
         84084,
         "West",
         "2025-02-01T14:33:05.051Z",
         "2025-02-01T14:33:05.051Z"
        ],
        [
         "TB-21520",
         "Tracy Blumstein",
         "Consumer",
         "United States",
         "Philadelphia",
         "Pennsylvania",
         19140,
         "East",
         "2025-02-01T14:33:05.051Z",
         "2025-02-01T14:33:05.051Z"
        ],
        [
         "KB-16585",
         "Ken Black",
         "Corporate",
         "United States",
         "Fremont",
         "Nebraska",
         68025,
         "Central",
         "2025-02-01T14:33:05.051Z",
         "2025-02-01T14:33:05.051Z"
        ],
        [
         "SF-20065",
         "Sandra Flanagan",
         "Consumer",
         "United States",
         "Philadelphia",
         "Pennsylvania",
         19140,
         "East",
         "2025-02-01T14:33:05.051Z",
         "2025-02-01T14:33:05.051Z"
        ],
        [
         "SN-20710",
         "Steve Nguyen",
         "Home Office",
         "United States",
         "Houston",
         "Texas",
         77041,
         "Central",
         "2025-02-01T14:33:05.051Z",
         "2025-02-01T14:33:05.051Z"
        ],
        [
         "LH-16900",
         "Lena Hernandez",
         "Consumer",
         "United States",
         "Dover",
         "Delaware",
         19901,
         "East",
         "2025-02-01T14:33:05.051Z",
         "2025-02-01T14:33:05.051Z"
        ],
        [
         "ON-18715",
         "Odella Nelson",
         "Corporate",
         "United States",
         "Eagan",
         "Minnesota",
         55122,
         "Central",
         "2025-02-01T14:33:05.051Z",
         "2025-02-01T14:33:05.051Z"
        ],
        [
         "AA-10480",
         "Andrew Allen",
         "Consumer",
         "United States",
         "Concord",
         "North Carolina",
         28027,
         "South",
         "2025-02-01T14:33:05.051Z",
         "2025-02-01T14:33:05.051Z"
        ],
        [
         "CG-12520",
         "Claire Gute",
         "Consumer",
         "United States",
         "Henderson",
         "Kentucky",
         42420,
         "South",
         "2025-02-01T14:33:05.051Z",
         "2025-02-01T14:48:48.961Z"
        ],
        [
         "BH-11710",
         "Brosina Hoffman",
         "Consumer",
         "Pakistan",
         "Los Angeles",
         "California",
         90032,
         "West",
         "2025-02-01T14:33:05.051Z",
         "2025-02-01T16:26:33.681Z"
        ]
       ],
       "datasetInfos": [],
       "dbfsResultPath": null,
       "isJsonSchema": true,
       "metadata": {
        "createTempViewForImplicitDf": true,
        "dataframeName": "_sqldf",
        "executionCount": 1
       },
       "overflow": false,
       "plotOptions": {
        "customPlotOptions": {},
        "displayType": "table",
        "pivotAggregation": null,
        "pivotColumns": null,
        "xColumns": null,
        "yColumns": null
       },
       "removedWidgets": [],
       "schema": [
        {
         "metadata": "{\"__CHAR_VARCHAR_TYPE_STRING\":\"varchar(20)\"}",
         "name": "CustomerID",
         "type": "\"string\""
        },
        {
         "metadata": "{\"__CHAR_VARCHAR_TYPE_STRING\":\"varchar(20)\"}",
         "name": "CustomerName",
         "type": "\"string\""
        },
        {
         "metadata": "{\"__CHAR_VARCHAR_TYPE_STRING\":\"varchar(20)\"}",
         "name": "Segment",
         "type": "\"string\""
        },
        {
         "metadata": "{\"__CHAR_VARCHAR_TYPE_STRING\":\"varchar(20)\"}",
         "name": "Country",
         "type": "\"string\""
        },
        {
         "metadata": "{\"__CHAR_VARCHAR_TYPE_STRING\":\"varchar(20)\"}",
         "name": "City",
         "type": "\"string\""
        },
        {
         "metadata": "{\"__CHAR_VARCHAR_TYPE_STRING\":\"varchar(20)\"}",
         "name": "State",
         "type": "\"string\""
        },
        {
         "metadata": "{}",
         "name": "PostalCode",
         "type": "\"long\""
        },
        {
         "metadata": "{\"__CHAR_VARCHAR_TYPE_STRING\":\"varchar(20)\"}",
         "name": "Region",
         "type": "\"string\""
        },
        {
         "metadata": "{}",
         "name": "createdDate",
         "type": "\"timestamp\""
        },
        {
         "metadata": "{}",
         "name": "updatedDate",
         "type": "\"timestamp\""
        }
       ],
       "type": "table"
      }
     },
     "output_type": "display_data"
    }
   ],
   "source": [
    "%sql\n",
    "Select * from  dim.Customer\n",
    "\n"
   ]
  }
 ],
 "metadata": {
  "application/vnd.databricks.v1+notebook": {
   "computePreferences": null,
   "dashboards": [],
   "environmentMetadata": {
    "base_environment": "",
    "environment_version": "1"
   },
   "language": "python",
   "notebookMetadata": {
    "mostRecentlyExecutedCommandWithImplicitDF": {
     "commandId": 6990530295390516,
     "dataframes": [
      "_sqldf"
     ]
    },
    "pythonIndentUnit": 4
   },
   "notebookName": "Customer Dimension",
   "widgets": {}
  },
  "language_info": {
   "name": "python"
  }
 },
 "nbformat": 4,
 "nbformat_minor": 0
}